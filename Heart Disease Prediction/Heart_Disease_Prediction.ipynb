{
  "nbformat": 4,
  "nbformat_minor": 0,
  "metadata": {
    "colab": {
      "private_outputs": true,
      "provenance": []
    },
    "kernelspec": {
      "name": "python3",
      "display_name": "Python 3"
    },
    "language_info": {
      "name": "python"
    }
  },
  "cells": [
    {
      "cell_type": "markdown",
      "source": [
        "# بسم الله الرحمن الرحيم"
      ],
      "metadata": {
        "id": "919U5LDs5xW1"
      }
    },
    {
      "cell_type": "markdown",
      "source": [
        "# Heart Disease Prediction\n",
        "\n",
        "## Problem Statement\n",
        "\n",
        "Develop a machine learning model to predict the likelihood of heart disease in individuals based on their medical history, lifestyle factors, and physiological attributes. The model should provide a binary classification (presence or absence of heart disease) to aid in early detection and prevention. This project aims to improve cardiac healthcare by enabling timely interventions for at-risk individuals.\n",
        "\n",
        "<center>\n",
        "<img src=\"https://www.cardio.com/hubfs/human%20heart%20illustration.jpeg\" alt=\"drawing\" width=\"500\" />\n",
        "</center>"
      ],
      "metadata": {
        "id": "fJNfT_0Vp51r"
      }
    },
    {
      "cell_type": "markdown",
      "source": [
        "Dataset Description:\n",
        "> 1. age - age in years\n",
        "2. sex - (1 = male; 0 = female)\n",
        "3. cp - chest pain type\n",
        "4. trestbps - resting blood pressure (in mm Hg on admission to the hospital)\n",
        "5. chol - serum cholestoral in mg/dl\n",
        "6. fbs - (fasting blood sugar > 120 mg/dl) (1 = true; 0 = false)\n",
        "7. restecg - resting electrocardiographic results\n",
        "8. thalach - maximum heart rate achieved\n",
        "9. exang - exercise induced angina (1 = yes; 0 = no)\n",
        "10. oldpeak - ST depression induced by exercise relative to rest\n",
        "11. slope - the slope of the peak exercise ST segment\n",
        "12. ca - number of major vessels (0-3) colored by flourosopy\n",
        "13. thal - 3 = normal; 6 = fixed defect; 7 = reversable defect\n",
        "14. target - have disease or not (1=yes, 0=no)"
      ],
      "metadata": {
        "id": "cGSGSjj42xz5"
      }
    },
    {
      "cell_type": "code",
      "execution_count": null,
      "metadata": {
        "id": "7xXaBtF4sqCy"
      },
      "outputs": [],
      "source": [
        "import numpy as np\n",
        "import pandas as pd\n",
        "import matplotlib.pyplot as plt\n",
        "import seaborn as sns\n",
        "import plotly.express as px\n",
        "\n",
        "from sklearn.model_selection import train_test_split\n",
        "from sklearn.linear_model import LogisticRegression\n",
        "from sklearn.tree import DecisionTreeClassifier\n",
        "from sklearn.ensemble import RandomForestClassifier\n",
        "from sklearn.neighbors import KNeighborsClassifier\n",
        "from sklearn import svm\n",
        "from sklearn import preprocessing\n",
        "from sklearn.metrics import accuracy_score, precision_score, recall_score, f1_score, confusion_matrix, classification_report\n",
        "from sklearn.tree import plot_tree\n",
        "\n",
        "\n",
        "import tensorflow as tf\n",
        "from keras.models import Sequential\n",
        "from keras.layers import Dense\n",
        "from sklearn.naive_bayes import GaussianNB\n"
      ]
    },
    {
      "cell_type": "code",
      "source": [
        "# read data set\n",
        "df = pd.read_csv('/content/heart.csv')\n",
        "\n",
        "# display first 5 rows\n",
        "df.head()"
      ],
      "metadata": {
        "id": "1NeZ6AOZwPYx"
      },
      "execution_count": null,
      "outputs": []
    },
    {
      "cell_type": "code",
      "source": [
        "# display last 5 rows\n",
        "df.tail()"
      ],
      "metadata": {
        "id": "rrBi05W-Sm7j"
      },
      "execution_count": null,
      "outputs": []
    },
    {
      "cell_type": "code",
      "source": [
        "df.shape"
      ],
      "metadata": {
        "id": "Sf3YLKNqkvHf"
      },
      "execution_count": null,
      "outputs": []
    },
    {
      "cell_type": "markdown",
      "source": [
        "`df.info()` It provides a concise summary of the DataFrame's structure, including details such as the number of rows and columns, data types of each column, and the presence of missing values"
      ],
      "metadata": {
        "id": "jOlMlB5jImVw"
      }
    },
    {
      "cell_type": "code",
      "source": [
        "df.info()"
      ],
      "metadata": {
        "id": "fnwfN0adwUPE"
      },
      "execution_count": null,
      "outputs": []
    },
    {
      "cell_type": "markdown",
      "source": [
        "`df.describe()` generate various statistics for each numerical column 1. in the DataFrame. These statistics include:¶\n",
        "2. Count: The number of non-null (non-missing) values in each column.\n",
        "3. Mean: The average value of each column.\n",
        "4. Std: The standard deviation, which measures the amount of variation 5. or dispersion in each column.\n",
        "6. Min: The minimum value in each column.\n",
        "7. 25%: The 25th percentile value, also known as the first quartile.\n",
        "8. 50%: The 50th percentile value, also known as the median or second quartile.\n",
        "10. 75%: The 75th percentile value, also known as the third quartile.\n",
        "11. Max: The maximum value in each column."
      ],
      "metadata": {
        "id": "N43JwHXZIwlS"
      }
    },
    {
      "cell_type": "code",
      "source": [
        "df.describe().T"
      ],
      "metadata": {
        "id": "G4hJKCMywXf7"
      },
      "execution_count": null,
      "outputs": []
    },
    {
      "cell_type": "code",
      "source": [
        "# count number of duplicate rows\n",
        "num_duplicate_rows = df.duplicated().sum()\n",
        "print(\"Number of duplicate rows: \", num_duplicate_rows)"
      ],
      "metadata": {
        "id": "VSl26MA4w59p"
      },
      "execution_count": null,
      "outputs": []
    },
    {
      "cell_type": "markdown",
      "source": [
        "## Data Visualization"
      ],
      "metadata": {
        "id": "J7ITaO2JHX7w"
      }
    },
    {
      "cell_type": "code",
      "source": [
        "plt.figure(figsize=(10,10))\n",
        "ax = sns.pairplot(data=df, hue='target', corner=True)"
      ],
      "metadata": {
        "id": "9XeJyDtpHuZf"
      },
      "execution_count": null,
      "outputs": []
    },
    {
      "cell_type": "markdown",
      "source": [
        "## correlation matrix"
      ],
      "metadata": {
        "id": "KSxgaDUwuaSf"
      }
    },
    {
      "cell_type": "code",
      "source": [
        "plt.figure(figsize=(12,12))\n",
        "sns.heatmap(df.corr(), annot=True, fmt='.1f', cmap=sns.cubehelix_palette(as_cmap=True), linewidth=.5)\n",
        "plt.show()"
      ],
      "metadata": {
        "id": "S30yBbHrIPNn"
      },
      "execution_count": null,
      "outputs": []
    },
    {
      "cell_type": "markdown",
      "source": [
        "Correlation between ['trestbps', 'fbts', 'restecg', 'chol'] and target close to 0 so i will drop this features"
      ],
      "metadata": {
        "id": "W6j6YE-scq5O"
      }
    },
    {
      "cell_type": "code",
      "source": [
        "# display counts of each class\n",
        "sns.countplot(data=df, x='target', palette='deep')\n",
        "plt.legend([\"not normal\"])\n",
        "plt.xlabel('target')\n",
        "plt.ylabel('Frequency')"
      ],
      "metadata": {
        "id": "cT8oGXGJoEUM"
      },
      "execution_count": null,
      "outputs": []
    },
    {
      "cell_type": "code",
      "source": [
        "sns.countplot(data=df, x='sex', hue='target', palette='deep')\n",
        "plt.xlabel(\"Sex (0 = female, 1= male)\")\n",
        "plt.legend([\"Disease\", \"Normal\"])\n",
        "plt.show()"
      ],
      "metadata": {
        "id": "DvxegDOo5CKW"
      },
      "execution_count": null,
      "outputs": []
    },
    {
      "cell_type": "code",
      "source": [
        "# define Seaborn color palette to use\n",
        "palette_color = sns.color_palette('dark')\n",
        "plt.pie(df['sex'].value_counts(), labels=['Male', 'Female'], colors=palette_color, autopct='%.0f%%')\n",
        "plt.show()"
      ],
      "metadata": {
        "id": "-L53trfz7Uol"
      },
      "execution_count": null,
      "outputs": []
    },
    {
      "cell_type": "code",
      "source": [
        "pd.crosstab(df['age'], df['target']).plot(kind=\"bar\",figsize=(15,6))\n",
        "plt.title('Heart Disease Frequency for Ages')\n",
        "plt.xlabel('Age')\n",
        "plt.ylabel('Frequency')\n",
        "plt.legend([\"Abnormal\", \"Normal\"])\n",
        "plt.show()"
      ],
      "metadata": {
        "id": "A5o-JSxS738z"
      },
      "execution_count": null,
      "outputs": []
    },
    {
      "cell_type": "code",
      "source": [
        "fig, axes = plt.subplots(2, 2, figsize=(10, 8))\n",
        "plt.figure(figsize=(12,12))\n",
        "\n",
        "fig.suptitle('')\n",
        "\n",
        "sns.barplot(ax =axes[0,0], x=df[\"exang\"],y=df['target'])\n",
        "sns.barplot(ax =axes[0,1], x=df[\"slope\"],y=df['target'])\n",
        "\n",
        "sns.barplot(ax =axes[1,0], x=df[\"cp\"],y=df['target'])\n",
        "sns.barplot(ax =axes[1,1], x=df[\"thal\"],y=df['target'])\n",
        "plt.show()"
      ],
      "metadata": {
        "id": "tt4IPQgqGPZF"
      },
      "execution_count": null,
      "outputs": []
    },
    {
      "cell_type": "code",
      "source": [
        "\n",
        "\n",
        "sns.scatterplot(data=df, x=\"age\", y=\"thalach\", hue='target', palette='deep')\n",
        "plt.legend([\"Abnormal\", \"Normal\"])\n",
        "plt.xlabel(\"Age\")\n",
        "plt.ylabel(\"Maximum Heart Rate\")\n",
        "plt.show()\n",
        "\n"
      ],
      "metadata": {
        "id": "kRH6ydhY9SV4"
      },
      "execution_count": null,
      "outputs": []
    },
    {
      "cell_type": "code",
      "source": [
        "sns.histplot(data=df, x='age', hue='target', kde=True)\n",
        "plt.legend([\"Abnormal\", \"Normal\"])\n"
      ],
      "metadata": {
        "id": "pbKe_mWOvaP0"
      },
      "execution_count": null,
      "outputs": []
    },
    {
      "cell_type": "code",
      "source": [
        "sns.countplot(data=df, x='cp',hue='target', palette='deep')\n",
        "plt.title('Heart Disease Frequency According To Chest Pain Type')\n",
        "plt.xlabel('Chest Pain Type')\n",
        "plt.ylabel('Frequency of Disease or Not')\n",
        "plt.legend([\"Abnormal\", \"Normal\"])\n",
        "plt.show()"
      ],
      "metadata": {
        "id": "n_9anQ8RBZP6"
      },
      "execution_count": null,
      "outputs": []
    },
    {
      "cell_type": "code",
      "source": [
        "sns.countplot(data=df, x='exang',hue='target', palette='deep')\n",
        "plt.title('Heart Disease Frequency According To Chest Pain Type')\n",
        "plt.xlabel('exercise induced angina (1 = yes; 0 = no)')\n",
        "plt.ylabel('Frequency of Disease or Not')\n",
        "plt.legend([\"Abnormal\", \"Normal\"])\n",
        "plt.show()"
      ],
      "metadata": {
        "id": "-q-JZg3_HMln"
      },
      "execution_count": null,
      "outputs": []
    },
    {
      "cell_type": "code",
      "source": [
        "sns.countplot(data=df, x='fbs', hue='target', palette='deep')\n",
        "plt.title('Heart Disease Frequency According To FBS')\n",
        "plt.xlabel('FBS - (Fasting Blood Sugar > 120 mg/dl) (1 = true; 0 = false)')\n",
        "plt.legend([\"Abnormal\", \"Normal\"])\n",
        "plt.ylabel('Frequency of Disease or Not')\n",
        "plt.show()"
      ],
      "metadata": {
        "id": "VQTg00I8_1Vt"
      },
      "execution_count": null,
      "outputs": []
    },
    {
      "cell_type": "code",
      "source": [
        "plt.title('Heart Disease Frequency for Slope')\n",
        "sns.countplot(data=df, x='slope', hue='target', palette='deep')\n",
        "plt.xlabel('The Slope of The Peak Exercise ST Segment ')\n",
        "plt.ylabel('Frequency')\n",
        "plt.legend([\"Abnormal\", \"Normal\"])\n",
        "plt.show()"
      ],
      "metadata": {
        "id": "tIkYZ8dy-THp"
      },
      "execution_count": null,
      "outputs": []
    },
    {
      "cell_type": "markdown",
      "source": [
        "# Modeling"
      ],
      "metadata": {
        "id": "cqiQ_3OvvT2p"
      }
    },
    {
      "cell_type": "code",
      "source": [
        "df = df.drop(columns=['trestbps', 'fbs', 'restecg', 'chol'])\n",
        "# since correlation between them and target close to 0 so i will drop this features"
      ],
      "metadata": {
        "id": "hL489cvm9AOc"
      },
      "execution_count": null,
      "outputs": []
    },
    {
      "cell_type": "markdown",
      "source": [
        "### Split Data"
      ],
      "metadata": {
        "id": "O1IwKbgzdXTC"
      }
    },
    {
      "cell_type": "code",
      "source": [
        "X, Y = df.drop(\"target\",axis=1), df[\"target\"]\n",
        "X_train, X_test, y_train, y_test = train_test_split(X, Y, test_size=0.2,random_state=42)\n",
        "\n",
        "# this dictionary will hold accuracy of each model\n",
        "accuracies = dict()"
      ],
      "metadata": {
        "id": "0BljzgpSdaYP"
      },
      "execution_count": null,
      "outputs": []
    },
    {
      "cell_type": "markdown",
      "source": [
        "## LogisticRegression"
      ],
      "metadata": {
        "id": "0WU_43SdaXdN"
      }
    },
    {
      "cell_type": "code",
      "source": [
        "classifier = LogisticRegression()\n",
        "classifier.fit(X_train, y_train)\n",
        "predictions = classifier.predict(X_test)"
      ],
      "metadata": {
        "id": "36sUBVQqaa_a"
      },
      "execution_count": null,
      "outputs": []
    },
    {
      "cell_type": "code",
      "source": [
        "accuracy = accuracy_score(predictions, y_test) * 100\n",
        "accuracies['Logistic Regression'] = accuracy\n",
        "print(f'Logistic Regression Accuracy: {accuracy:.2f}')"
      ],
      "metadata": {
        "id": "kLhnPqRgaYyP"
      },
      "execution_count": null,
      "outputs": []
    },
    {
      "cell_type": "markdown",
      "source": [
        "## Normalize Data"
      ],
      "metadata": {
        "id": "5UR3x7AUDC-k"
      }
    },
    {
      "cell_type": "code",
      "source": [
        "X_train = preprocessing.normalize(X_train)\n",
        "X_test = preprocessing.normalize(X_test)\n"
      ],
      "metadata": {
        "id": "hlH-roXxDFBw"
      },
      "execution_count": null,
      "outputs": []
    },
    {
      "cell_type": "markdown",
      "source": [
        "## SVM"
      ],
      "metadata": {
        "id": "pygwYCL7CqRd"
      }
    },
    {
      "cell_type": "code",
      "source": [
        "sv = svm.SVC(random_state = 1)\n",
        "sv.fit(X_train, y_train)"
      ],
      "metadata": {
        "id": "8MBilp5QCsL2"
      },
      "execution_count": null,
      "outputs": []
    },
    {
      "cell_type": "code",
      "source": [
        "predictions = sv.predict(X_test)\n",
        "accuracy = accuracy_score(predictions, y_test) * 100\n",
        "accuracies['SVM'] = accuracy\n",
        "print(f'SVM Accuracy: {accuracy:.2f}')"
      ],
      "metadata": {
        "id": "CwDgec-kCw2k"
      },
      "execution_count": null,
      "outputs": []
    },
    {
      "cell_type": "markdown",
      "source": [
        " ## Decision tree"
      ],
      "metadata": {
        "id": "RDp-ZBUuCN9m"
      }
    },
    {
      "cell_type": "code",
      "source": [
        "dt = DecisionTreeClassifier(random_state=42)\n",
        "dt.fit(X_train, y_train)\n",
        "predictions = dt.predict(X_test)"
      ],
      "metadata": {
        "id": "4L31XZmX__Os"
      },
      "execution_count": null,
      "outputs": []
    },
    {
      "cell_type": "code",
      "source": [
        "accuracy = accuracy_score(predictions, y_test) * 100\n",
        "accuracies['Decision tree'] = accuracy\n",
        "print(f'Decision Tree Classifier Accuracy: {accuracy:.2f}')"
      ],
      "metadata": {
        "id": "fvwkECsyvkvE"
      },
      "execution_count": null,
      "outputs": []
    },
    {
      "cell_type": "markdown",
      "source": [
        "## Random Forest"
      ],
      "metadata": {
        "id": "pj-imOIRDzTR"
      }
    },
    {
      "cell_type": "code",
      "source": [
        "rf = RandomForestClassifier(random_state=42)\n",
        "rf.fit(X_train, y_train)\n",
        "predictions = rf.predict(X_test)\n",
        "accuracy = accuracy_score(predictions, y_test) * 100\n",
        "accuracies['Random Forest'] = accuracy\n",
        "print(f'Decision Tree Classifier Accuracy: {accuracy:.2f}')"
      ],
      "metadata": {
        "id": "8oO4BhsiDQJL"
      },
      "execution_count": null,
      "outputs": []
    },
    {
      "cell_type": "markdown",
      "source": [
        "## Naive Bayes"
      ],
      "metadata": {
        "id": "V3mh38jpjVkk"
      }
    },
    {
      "cell_type": "code",
      "source": [
        "nb = GaussianNB()\n",
        "nb.fit(X_train,y_train)\n",
        "predictions = nb.predict(X_test)"
      ],
      "metadata": {
        "id": "z2DwjO6gjDX1"
      },
      "execution_count": null,
      "outputs": []
    },
    {
      "cell_type": "code",
      "source": [
        "accuracy = accuracy_score(predictions, y_test) * 100\n",
        "accuracies['Naive Bayes'] = accuracy\n",
        "print(f'Decision Tree Classifier Accuracy: {accuracy:.2f}')"
      ],
      "metadata": {
        "id": "xyTtN_PCjUKi"
      },
      "execution_count": null,
      "outputs": []
    },
    {
      "cell_type": "markdown",
      "source": [
        "## KNN"
      ],
      "metadata": {
        "id": "fSMXpWTsQ7ej"
      }
    },
    {
      "cell_type": "code",
      "source": [
        "# KNN Model\n",
        "from sklearn.neighbors import KNeighborsClassifier\n",
        "knn = KNeighborsClassifier(n_neighbors = 30)  # n_neighbors means k\n",
        "knn.fit(X_train, y_train)\n",
        "prediction = knn.predict(X_test)\n",
        "accuracies['KNN'] = accuracy\n",
        "print(\"{} NN Score: {:.2f}%\".format(30, knn.score(X_test, y_test)*100))"
      ],
      "metadata": {
        "id": "aFBPRQRxQ6bc"
      },
      "execution_count": null,
      "outputs": []
    },
    {
      "cell_type": "code",
      "source": [
        "\n",
        "# sns.set_style(\"whitegrid\")\n",
        "plt.figure(figsize=(16,5))\n",
        "sns.barplot(y=list(accuracies.keys()), x=list(accuracies.values()),palette='deep')\n",
        "plt.xticks(np.arange(0,100,5))\n",
        "plt.xlabel(\"Accuracy %\")\n",
        "plt.ylabel(\"Algorithms\")\n",
        "sns.despine(left=True, bottom=True)\n",
        "\n",
        "plt.show()"
      ],
      "metadata": {
        "id": "VGX3MRKTKGml"
      },
      "execution_count": null,
      "outputs": []
    },
    {
      "cell_type": "code",
      "source": [],
      "metadata": {
        "id": "MGmfzE90KGZS"
      },
      "execution_count": null,
      "outputs": []
    },
    {
      "cell_type": "markdown",
      "source": [
        "# Thank You :)"
      ],
      "metadata": {
        "id": "-FabwFMxrFjt"
      }
    }
  ]
}